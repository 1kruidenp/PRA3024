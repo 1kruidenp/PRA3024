{
  "nbformat": 4,
  "nbformat_minor": 0,
  "metadata": {
    "colab": {
      "name": "Week_4.ipynb",
      "provenance": [],
      "authorship_tag": "ABX9TyPZLasqDuBghm5TZpYoK1eV",
      "include_colab_link": true
    },
    "kernelspec": {
      "name": "python3",
      "display_name": "Python 3"
    }
  },
  "cells": [
    {
      "cell_type": "markdown",
      "metadata": {
        "id": "view-in-github",
        "colab_type": "text"
      },
      "source": [
        "<a href=\"https://colab.research.google.com/github/1kruidenp/PRA3024/blob/master/Week_4.ipynb\" target=\"_parent\"><img src=\"https://colab.research.google.com/assets/colab-badge.svg\" alt=\"Open In Colab\"/></a>"
      ]
    },
    {
      "cell_type": "code",
      "metadata": {
        "id": "krI0ZlE_zrgu",
        "colab_type": "code",
        "colab": {}
      },
      "source": [
        "import math\n",
        "#We need to tell Python what the total momentum is defined as mathematically - do that in this code block:\n",
        "\n",
        "#Hint: I suggest we define a function which we might want to use later - something like:\n",
        "\n",
        "def p_tot_daughter(daughter):\n",
        "  # H_PX=daughter+\"_PX\"\n",
        "  # #H_PX=ROOT.RooRealVar(daughter+\"_PX\",daughter+\" X Momentum\",0,10000,\"MeV/c\")\n",
        "  # H_PY=daughter+\"_PY\"\n",
        "  # #H_PY=ROOT.RooRealVar(daughter+\"_PY\",daughter+\" Y Momentum\",0,10000,\"MeV/c\")\n",
        "  # H_PZ=daughter+\"_PZ\"\n",
        "  # #H_PZ=ROOT.RooRealVar(daughter+\"_PZ\",daughter+\" Z Momentum\",0,10000,\"MeV/c\")\n",
        "  # print(H_PX)\n",
        "  p_tot= \"sqrt((\"+daughter+\"_PX)**2+(\"+daughter+\"_PY)**2+(\"+daughter+\"_PZ)**2)\"\n",
        "  return p_tot\n",
        "\n"
      ],
      "execution_count": 0,
      "outputs": []
    },
    {
      "cell_type": "code",
      "metadata": {
        "id": "Lfc1nAgkzxjC",
        "colab_type": "code",
        "colab": {}
      },
      "source": [
        "#use the histogram plotting tools, call your function to find the total momentum and then plot it!\n",
        "\n",
        "p_total_H1=p_tot_daughter(\"H1\")\n",
        "p_total_H2=p_tot_daughter(\"H2\")\n",
        "p_total_H3=p_tot_daughter(\"H3\")\n",
        "#print(p_total_H1)\n",
        "\n",
        "#Now we can grab some variables as a test:\n",
        "H1momentum = ROOT.RooRealVar(p_total_H1,\"H1 Momentum\",4000,6000,\"MeV/c\") #3 different particles, can go H1, H2, H3\n",
        "H2momentum = ROOT.RooRealVar(p_total_H2,\"H2 Momentum\",0,10000,\"MeV/c\")\n",
        "H3momentum = ROOT.RooRealVar(p_total_H3,\"H3 Momentum\",0,10000,\"MeV/c\")\n",
        "# We then create a dataset for us to play with\n",
        "data = ROOT.RooDataSet(\"data\",\"data set\", tree, ROOT.RooArgSet(H1momentum,H2momentum,H3momentum), \"1==1\")\n",
        "# Now we create a canvas, plot our data onto the canvas and draw it:\n",
        "c = ROOT.TCanvas(\"c\",\"c\")\n",
        "frame = H3momentum.frame()\n",
        "data.plotOn(frame)\n",
        "frame.Draw()\n",
        "c.Draw()\n"
      ],
      "execution_count": 0,
      "outputs": []
    }
  ]
}