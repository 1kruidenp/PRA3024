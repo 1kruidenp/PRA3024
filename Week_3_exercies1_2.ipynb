{
  "nbformat": 4,
  "nbformat_minor": 0,
  "metadata": {
    "colab": {
      "name": "Week_3_exercies1-2",
      "provenance": [],
      "authorship_tag": "ABX9TyNe18gTXncE1nVgxoE47x/X",
      "include_colab_link": true
    },
    "kernelspec": {
      "name": "python3",
      "display_name": "Python 3"
    }
  },
  "cells": [
    {
      "cell_type": "markdown",
      "metadata": {
        "id": "view-in-github",
        "colab_type": "text"
      },
      "source": [
        "<a href=\"https://colab.research.google.com/github/1kruidenp/PRA3024/blob/master/Week_3_exercies1_2.ipynb\" target=\"_parent\"><img src=\"https://colab.research.google.com/assets/colab-badge.svg\" alt=\"Open In Colab\"/></a>"
      ]
    },
    {
      "cell_type": "markdown",
      "metadata": {
        "id": "TB_pUXdGN89t",
        "colab_type": "text"
      },
      "source": [
        "The code below represents exercise 1 and 2, and computes the fischer matrix and the standard deviation of observables. The code can be modified so that the user can change to any waveform."
      ]
    },
    {
      "cell_type": "code",
      "metadata": {
        "id": "esZKcZpGrQJn",
        "colab_type": "code",
        "colab": {}
      },
      "source": [
        "#here the necessary packages are installed\n",
        "import scipy.integrate as integrate\n",
        "import scipy.special as special\n",
        "import scipy.misc as derivative\n",
        "import math\n",
        "import numpy as np\n",
        "\n"
      ],
      "execution_count": 0,
      "outputs": []
    },
    {
      "cell_type": "code",
      "metadata": {
        "id": "LJfXpNENiTLd",
        "colab_type": "code",
        "colab": {
          "base_uri": "https://localhost:8080/",
          "height": 34
        },
        "outputId": "10e8693e-e726-4081-de89-df7d5cd45b0f"
      },
      "source": [
        "\n",
        "\n",
        "#All the constants are defined below\n",
        "\n",
        "f0=150 #Hz\n",
        "fs=40 #Hz #Minimum freq #Also the lower bound for the integral\n",
        "m1=20**30 \n",
        "m2=10**30\n",
        "S0=9*10**-46 #Hz^-1\n",
        "pi=math.pi\n",
        "sqrt=math.sqrt\n",
        "c=3*10**8\n",
        "G=6.674*10**-11\n",
        "SNR=10\n",
        "#The 4 observables are below, they can be modified as needed\n",
        "M=m1+m2 #\n",
        "eta = (m1*m2)/(M**2)\n",
        "tc=1\n",
        "phi=1\n",
        "\n",
        "#Below are the corrections used for the psi function, more can be added or less can be used, but make sure to modifiy this in the sum equation below\n",
        "a0=1\n",
        "a1=0\n",
        "a2=(20/9)*((743/336)+(11/4)*eta)\n",
        "a3=-16*pi\n",
        "a4=10*((3058673/1016064)+(5429/1008)*eta+(617/144)*eta**2)\n",
        "\n",
        "v=(pi*M*f)**(1/3)\n",
        "#Don't forget to add correction\n",
        "SUM=(a0*v**0)+(a1*v**1)+(a2*v**2)+(a3*v**3)+(a4*v**4)\n",
        "\n",
        "f=215 \n",
        "\n",
        "#Here are the variables which will be used to find the partial derivatives \n",
        "variables = [tc,phi,eta,M]\n",
        "#These are also changed to have a different object type\n",
        "observables= [\"tc\",\"phi\",\"eta\",\"M\"]\n",
        "\n",
        "#Here the sensitivity curve is created as a function\n",
        "def Sen(f):\n",
        "  x=f/fs  \n",
        "  return S0*(((4.49*x)**-56)+0.16*(x**-4.52)+0.52+0.32*(x**2))\n",
        "print(Sen(f))\n"
      ],
      "execution_count": 79,
      "outputs": [
        {
          "output_type": "stream",
          "text": [
            "8.788571953481794e-45\n"
          ],
          "name": "stdout"
        }
      ]
    },
    {
      "cell_type": "code",
      "metadata": {
        "id": "_d2jZOc4qpZ5",
        "colab_type": "code",
        "colab": {
          "base_uri": "https://localhost:8080/",
          "height": 34
        },
        "outputId": "141b7241-629d-40f1-99a6-d9135ec9268d"
      },
      "source": [
        "#A is created here which is needed later in the fourier transform\n",
        "def A(f,fs):\n",
        "  \n",
        "  fh=(((6**(3/2))*pi*M)**(-1))*(c**3)*(1/G) #Upper bound for the integral. Missing G's and c's. wE HAVE 1/kg so c^3/G= c*m^3/s^3 * kg*s^2/m^3= kg/s which cancels to 1/s\n",
        "  ins=lambda x:((f**(-7/6))/Sen(f))\n",
        "  I=integrate.quad(ins, fs, fh)\n",
        "  return sqrt((SNR)/(4*I[0]))\n",
        "\n",
        "\n",
        "print (A(f, fs))\n",
        "  "
      ],
      "execution_count": 80,
      "outputs": [
        {
          "output_type": "stream",
          "text": [
            "5.1608899488929084e-23\n"
          ],
          "name": "stdout"
        }
      ]
    },
    {
      "cell_type": "code",
      "metadata": {
        "id": "onC5K-325Jba",
        "colab_type": "code",
        "colab": {
          "base_uri": "https://localhost:8080/",
          "height": 34
        },
        "outputId": "20148920-310a-44c1-aadb-7b52ff770d98"
      },
      "source": [
        "#Here we create the psi function\n",
        "\n",
        "\n",
        "def psi(f):\n",
        "  return (2*pi*f*tc)-phi-(pi/4)+(3/(128*eta*(v**5)))*SUM\n",
        "print(psi(f))\n",
        "\n"
      ],
      "execution_count": 81,
      "outputs": [
        {
          "output_type": "stream",
          "text": [
            "1349.0994428802526\n"
          ],
          "name": "stdout"
        }
      ]
    },
    {
      "cell_type": "code",
      "metadata": {
        "id": "aWnSSjtbprGj",
        "colab_type": "code",
        "colab": {
          "base_uri": "https://localhost:8080/",
          "height": 51
        },
        "outputId": "9fcd9139-8c83-40f5-84b9-92db125e7661"
      },
      "source": [
        "#Now we will make a function for the fourier transform of the signal.\n",
        "#Two values are found here, one being real and the other imaginary\n",
        "e=math.e\n",
        "\n",
        "def h_r(f):\n",
        "  H_R=A(f, fs)*(f**(-7/6))*e**(1j*psi(f))\n",
        "  return H_R.real\n",
        "def h_c(f):\n",
        "  H_R=A(f, fs)*(f**(-7/6))*e**(1j*psi(f))\n",
        "  return H_R.imag\n",
        "\n",
        "\n",
        "\n",
        "\n",
        "\n",
        "print(h_r(f))\n",
        "print (h_c(f))"
      ],
      "execution_count": 82,
      "outputs": [
        {
          "output_type": "stream",
          "text": [
            "-2.0885323233589236e-26\n",
            "-9.58226530006541e-26\n"
          ],
          "name": "stdout"
        }
      ]
    },
    {
      "cell_type": "code",
      "metadata": {
        "id": "9ebaMYZFosiM",
        "colab_type": "code",
        "colab": {}
      },
      "source": [
        "#Here a function is made to make the derivatives of the function\n",
        "def d_h_real(i,inc):\n",
        "  return (h_r(variables[i]+inc) - h_r(variables[i])) / (inc)\n",
        "def d_h_compl(j,inc):\n",
        "  return (h_c(variables[j]+inc) - h_c(variables[j])) / (inc)"
      ],
      "execution_count": 0,
      "outputs": []
    },
    {
      "cell_type": "code",
      "metadata": {
        "id": "Qq4Zq_u437Rn",
        "colab_type": "code",
        "colab": {}
      },
      "source": [
        "def create_fm(matrix, increment):\n",
        "  #This part here creates the range of frequencies to integrate from\n",
        "  frequencies = np.zeros(shape=(len(variables)*len(variables)))\n",
        "  start_freq = fs\n",
        "  f_steps = int(  (f0-fs)  /  (len(variables)*len(variables))    )\n",
        "  for s in range(len(variables)*len(variables)):\n",
        "    frequencies[s] = start_freq\n",
        "    start_freq += f_steps\n",
        "  \n",
        "  f_index = 0\n",
        "  intg = 0\n",
        "  #print(frequencies)\n",
        "  for i in range(len(variables)):\n",
        "    for j in range(len(variables)):\n",
        "      if i==j:\n",
        "        numerator = 4 * float(d_h_real(i, increment) * d_h_compl(j, increment))\n",
        "        intg += (numerator/Sen(frequencies[f_index]))*increment\n",
        "        matrix[i][j] = intg\n",
        "      f_index += 1\n",
        "  \n",
        "  return matrix\n"
      ],
      "execution_count": 0,
      "outputs": []
    },
    {
      "cell_type": "code",
      "metadata": {
        "id": "leNjV_ZT4GqV",
        "colab_type": "code",
        "colab": {
          "base_uri": "https://localhost:8080/",
          "height": 85
        },
        "outputId": "aafa3add-f1b8-4556-8db1-a58bf3045deb"
      },
      "source": [
        "#here we create fischer matrix.\n",
        "fm = np.zeros( shape=(len(variables),len(variables)) )\n",
        "\n",
        "create_fm(fm, 0.01)\n",
        "print(fm)"
      ],
      "execution_count": 85,
      "outputs": [
        {
          "output_type": "stream",
          "text": [
            "[[ 8.24714713e+50  0.00000000e+00  0.00000000e+00  0.00000000e+00]\n",
            " [ 0.00000000e+00  1.36988970e+51  0.00000000e+00  0.00000000e+00]\n",
            " [ 0.00000000e+00  0.00000000e+00 -3.96329956e+85  0.00000000e+00]\n",
            " [ 0.00000000e+00  0.00000000e+00  0.00000000e+00 -3.96329956e+85]]\n"
          ],
          "name": "stdout"
        }
      ]
    },
    {
      "cell_type": "code",
      "metadata": {
        "id": "_SAx5fCdAY7e",
        "colab_type": "code",
        "colab": {}
      },
      "source": [
        "#The standard deviation of the observables are calculated here\n",
        "def compute_stds(matrix):\n",
        "  inverse = np.linalg.inv(matrix)\n",
        "  diag_elements = []\n",
        "  for i in range(len(variables)):\n",
        "    for j in range(len(variables)):\n",
        "      if (i==j):\n",
        "        diag_elements.append(inverse[i][j])\n",
        "  for k in range(len(diag_elements)):\n",
        "    diag_elements[k] = np.sqrt(diag_elements[k])\n",
        "\n",
        "  for l in range(len(diag_elements)):\n",
        "    print(\"The standard deviation for {} is {}\".format(observables[l],diag_elements[l]))"
      ],
      "execution_count": 0,
      "outputs": []
    },
    {
      "cell_type": "code",
      "metadata": {
        "id": "bgFao8JpAeY2",
        "colab_type": "code",
        "colab": {
          "base_uri": "https://localhost:8080/",
          "height": 119
        },
        "outputId": "d0a7e111-8e82-4465-f31a-c60f0adab815"
      },
      "source": [
        "compute_stds(fm)\n"
      ],
      "execution_count": 89,
      "outputs": [
        {
          "output_type": "stream",
          "text": [
            "The standard deviation for tc is 3.482155241074072e-26\n",
            "The standard deviation for phi is 2.7018248972420034e-26\n",
            "The standard deviation for eta is nan\n",
            "The standard deviation for M is nan\n"
          ],
          "name": "stdout"
        },
        {
          "output_type": "stream",
          "text": [
            "/usr/local/lib/python3.6/dist-packages/ipykernel_launcher.py:9: RuntimeWarning: invalid value encountered in sqrt\n",
            "  if __name__ == '__main__':\n"
          ],
          "name": "stderr"
        }
      ]
    }
  ]
}