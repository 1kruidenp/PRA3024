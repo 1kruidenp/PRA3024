{
  "nbformat": 4,
  "nbformat_minor": 0,
  "metadata": {
    "colab": {
      "name": "Week1_Task1",
      "provenance": [],
      "authorship_tag": "ABX9TyNDt73ySQlEaf5HnwFX1QR9",
      "include_colab_link": true
    },
    "kernelspec": {
      "name": "python3",
      "display_name": "Python 3"
    }
  },
  "cells": [
    {
      "cell_type": "markdown",
      "metadata": {
        "id": "view-in-github",
        "colab_type": "text"
      },
      "source": [
        "<a href=\"https://colab.research.google.com/github/1kruidenp/PRA3024/blob/master/Week1_Task1/2.ipynb\" target=\"_parent\"><img src=\"https://colab.research.google.com/assets/colab-badge.svg\" alt=\"Open In Colab\"/></a>"
      ]
    },
    {
      "cell_type": "code",
      "metadata": {
        "id": "BBJjLusvtfjx",
        "colab_type": "code",
        "outputId": "8f36345b-9be3-44a7-8a8a-c9f94c0c1548",
        "colab": {
          "base_uri": "https://localhost:8080/",
          "height": 503
        }
      },
      "source": [
        "import numpy as np\n",
        "import matplotlib.pyplot as plt\n",
        "\n",
        "#Percentage of population having antibodies\n",
        "Per_Anti=0.01\n",
        "#Number of population we will be testing\n",
        "Population=500000\n",
        "#Percentage of positive test being real positive\n",
        "Per_PTP=0.99\n",
        "#Percentage of positive test being false negative\n",
        "Per_PTN=0.01\n",
        "#Percentage of negative test being real negative\n",
        "Per_NTN=0.95\n",
        "#Percentage of negative test being fake positive\n",
        "Per_NTP=0.05\n",
        "\n",
        "\n",
        "\n",
        "Ar=np.random.choice(2,Population,p=[1-Per_Anti, Per_Anti])\n",
        "Dataset=list(Ar)\n",
        "\n",
        "\n",
        "Pop_RP=Dataset.count(1)\n",
        "Pop_RN=Dataset.count(0)\n",
        "print(\"Population with antibodies: \" + str(Pop_RP))\n",
        "\n",
        "\n",
        "\n",
        "def PositiveTest(Data, Per0, Per1):\n",
        "  #99% of real positive become tested positive and 1% will become tested negative\n",
        "  #PTP=Positive tested positive\n",
        "  #PTN=Positive tested negative\n",
        "  PosTest=list(np.random.choice(2,Data,p=[Per0, Per1]))\n",
        "  return PosTest\n",
        "\n",
        "def NegativeTest(Data, Per0, Per1):\n",
        "  #95% of real negative become tested negative and 5% will become tested positive\n",
        "  #NTN=Negative tested Negative\n",
        "  #NTP=Negative tested Positive\n",
        "  NegTest=list(np.random.choice(2,Data,p=[Per0, Per1]))\n",
        "  return NegTest\n",
        "\n",
        "PosTest=PositiveTest(Pop_RP, Per_PTN, Per_PTP)\n",
        "Pop_PTP=PosTest.count(1)\n",
        "Pop_PTN=PosTest.count(0)\n",
        "\n",
        "NegTest=NegativeTest(Pop_RN, Per_NTN, Per_NTP)\n",
        "Pop_NTN=NegTest.count(0)\n",
        "Pop_NTP=NegTest.count(1)\n",
        "\n",
        "print(\"Population of Positive people tested positive: \" + str(Pop_PTP))\n",
        "print(\"Population of Positive people tested negative: \" + str(Pop_PTN))\n",
        "print(\"Population of Negative people tested negative: \" + str(Pop_NTN))\n",
        "print(\"Population of Negative people tested positive: \" + str(Pop_NTP))\n",
        "\n",
        "def chance_Pos(PTP, NTP):\n",
        "  Chance=(PTP/(PTP+NTP))*100\n",
        "  return Chance\n",
        "def chance_Neg(NTN, PTN):\n",
        "  Chance=(NTN/(NTN+PTN))*100\n",
        "  return Chance\n",
        "\n",
        "print(\"Percentage of people tested positive actually being positive: \" + str(chance_Pos(Pop_PTP, Pop_NTP)))\n",
        "print(\"Percentage of people tested negative actually being negative: \" + str(chance_Neg(Pop_NTN, Pop_PTN)))\n",
        "\n",
        "#we have to add 0.005 to Per_Anti until chance_Pos become >=0.5\n",
        "print(\"\")\n",
        "print(\"\")\n",
        "\n",
        "import matplotlib.pyplot as plt\n",
        "fig_dataX=[0]\n",
        "fig_dataY=[0]\n",
        "\n",
        "i=0\n",
        "while chance_Pos(Pop_PTP, Pop_NTP)<50:\n",
        " \n",
        "  \n",
        "  Dataset=list(np.random.choice(2,Population,p=[1-Per_Anti, Per_Anti]))\n",
        "\n",
        "  Pop_RP=Dataset.count(1)\n",
        "  Pop_RN=Dataset.count(0)\n",
        "  PosTest=PositiveTest(Pop_RP, Per_PTN, Per_PTP)\n",
        "  Pop_PTP=PosTest.count(1)\n",
        "  Pop_PTN=PosTest.count(0)\n",
        "\n",
        "  NegTest=NegativeTest(Pop_RN, Per_NTN, Per_NTP)\n",
        "  Pop_NTN=NegTest.count(0)\n",
        "  Pop_NTP=NegTest.count(1)\n",
        "  fig_dataX[i]=Per_Anti\n",
        "  fig_dataY[i]=chance_Pos(Pop_PTP, Pop_NTP)\n",
        "  fig_dataX.append(1)\n",
        "  fig_dataY.append(1)\n",
        "  i+=1\n",
        "  Per_Anti = Per_Anti+0.002\n",
        "\n",
        "\n",
        "\n",
        "fig_dataX.pop()\n",
        "fig_dataY.pop()\n",
        "\n",
        "\n",
        "#Increasing population smoothes curve\n",
        "#For 50% of positive tests you would need 5% of population to have antibodies\n",
        "plt.plot(fig_dataX,fig_dataY)\n",
        "plt.xlabel(\"Percentage of people with antibodies\")\n",
        "plt.ylabel(\"Percentage of people tested positive actually tested positive\")\n",
        "\n",
        "\n",
        "\n",
        "\n",
        "  \n",
        "    "
      ],
      "execution_count": 1,
      "outputs": [
        {
          "output_type": "stream",
          "text": [
            "Population with antibodies: 4960\n",
            "Population of Positive people tested positive: 4904\n",
            "Population of Positive people tested negative: 56\n",
            "Population of Negative people tested negative: 470224\n",
            "Population of Negative people tested positive: 24816\n",
            "Percentage of people tested positive actually being positive: 16.500672947510093\n",
            "Percentage of people tested negative actually being negative: 99.98809220039125\n",
            "\n",
            "\n"
          ],
          "name": "stdout"
        },
        {
          "output_type": "execute_result",
          "data": {
            "text/plain": [
              "Text(0, 0.5, 'Percentage of people tested positive actually tested positive')"
            ]
          },
          "metadata": {
            "tags": []
          },
          "execution_count": 1
        },
        {
          "output_type": "display_data",
          "data": {
            "image/png": "[encoded data removed]",
            "text/plain": [
              "<Figure size 432x288 with 1 Axes>"
            ]
          },
          "metadata": {
            "tags": [],
            "needs_background": "light"
          }
        }
      ]
    },
    {
      "cell_type": "code",
      "metadata": {
        "id": "FoCQPNst1rSJ",
        "colab_type": "code",
        "colab": {
          "base_uri": "https://localhost:8080/",
          "height": 404
        },
        "outputId": "d898ef01-6176-4234-cd94-71d70bcb5848"
      },
      "source": [
        "#60% of people who purchase sports cars are men.  If 10 sports car owners are randomly selected\n",
        "\n",
        "import math\n",
        "import random\n",
        "from bisect import bisect\n",
        "from random import random\n",
        "\n",
        "\n",
        "#number of cars bought\n",
        "n=10\n",
        "#Probability of event happening\n",
        "p=0.6\n",
        "#\n",
        "sqrt=math.sqrt\n",
        "bins=11\n",
        "pi=math.pi\n",
        "stdev=2.5\n",
        "mean=5\n",
        "datasize=100000\n",
        "Beta=1\n",
        "Mu=0\n",
        "rangemin=2\n",
        "rangemax=5\n",
        "#0-10 men(11 data points)\n",
        "x=[0]*(n+1)\n",
        "P=[0]*(n+1)\n",
        "#The below probabilities are not needed, I could chose to plot one of the functions (shown below) but i chose to plot all in my output to show all the results\n",
        "P1=[0]*(n+1)\n",
        "P2=[0]*(n+1)\n",
        "P3=[0]*(n+1)\n",
        "y=[0]*(datasize+1)\n",
        "#The same applies for the y values just like for the P values\n",
        "y1=[0]*(datasize+1)\n",
        "y2=[0]*(datasize+1)\n",
        "y3=[0]*(datasize+1)\n",
        "\n",
        "\n",
        "\n",
        "def weighted_choice(choices):\n",
        "    values, weights = zip(*choices)\n",
        "    total = 0\n",
        "    cum_weights = []\n",
        "    for w in weights:\n",
        "        total += w\n",
        "        cum_weights.append(total)\n",
        "    X = random() * total\n",
        "    i = bisect(cum_weights, X)\n",
        "    return values[i]\n",
        "\n",
        "#Defining the function\n",
        "\n",
        "def gaussian(stdv,mean,x):\n",
        "  P=(1/(sqrt(2*(stdv**2)*pi)))*(math.exp((-0.5*(x-mean)**2)/(stdv**2))) \n",
        "  return P\n",
        "\n",
        "def binomial(n,p,x):\n",
        "  q=1-p\n",
        "  P=((math.factorial(n))/((math.factorial(n-x))*math.factorial(x)))*(p**x)*(q**(n-x))\n",
        "  return P\n",
        "\n",
        "def poisson(mean, x):\n",
        "  P=((mean**x)*(math.exp(-2.5)))/(math.factorial(x))\n",
        "  return P\n",
        "\n",
        "def exponential(Beta, Mu, x):\n",
        "  if Mu>x:\n",
        "    return \"error: Mu must be smaller or equal than x\"\n",
        "  if Beta<=0:\n",
        "    return \"error: Beta must be larger than zero\"\n",
        "  P=(1/Beta)*math.exp(-(x-Mu)/Beta)\n",
        "  return P\n",
        "\n",
        "def sum(rangemin,rangemax):\n",
        "  Ptot=0\n",
        "  k=0\n",
        "  for k in range(rangemin,rangemax+1):#otherwise rangemax is skipped\n",
        "    Ptot=Ptot+gaussian(stdev,mean,x[k])\n",
        "    #Ptot=Ptot+binomial(n,p,x[k])\n",
        "    #Ptot=Ptot+poisson(mean,x[i])\n",
        "    #Ptot=Ptot+exponential(Beta, Mu, x[i])\n",
        "    k=k+1\n",
        "  return Ptot\n",
        "\n",
        "i=0\n",
        "for i in range(n+1):\n",
        "  x[i]=i\n",
        "  P[i]=gaussian(stdev,mean,x[i])\n",
        "  #P[i]=binomial(n,p,x[i])\n",
        "  #P[i]=poisson(mean,x[i])\n",
        "  #P[i]=exponential(Beta, Mu, x[i])\n",
        "\n",
        "  P1[i]=binomial(n,p,x[i])\n",
        "  P2[i]=poisson(mean,x[i])\n",
        "  P3[i]=exponential(Beta, Mu, x[i])\n",
        "  \n",
        "\n",
        "  i=i+ 1\n",
        "\n",
        "j=0\n",
        "for j in range(datasize+1):\n",
        "    y[j]=weighted_choice([(x[0],P[0]), (x[1],P[1]), (x[2],P[2]), (x[3],P[3]), (x[4],P[4]), (x[5],P[5]), (x[6],P[6]), (x[7],P[7]), (x[8],P[8]), (x[9],P[9]), (x[10],P[10])])\n",
        "    #the bottom are not needed but as i want to show all my graphs in the output i copied for all functions\n",
        "    y1[j]=weighted_choice([(x[0],P1[0]), (x[1],P1[1]), (x[2],P1[2]), (x[3],P1[3]), (x[4],P1[4]), (x[5],P1[5]), (x[6],P1[6]), (x[7],P1[7]), (x[8],P1[8]), (x[9],P1[9]), (x[10],P1[10])])\n",
        "    y2[j]=weighted_choice([(x[0],P2[0]), (x[1],P2[1]), (x[2],P2[2]), (x[3],P2[3]), (x[4],P2[4]), (x[5],P2[5]), (x[6],P2[6]), (x[7],P2[7]), (x[8],P2[8]), (x[9],P2[9]), (x[10],P2[10])])\n",
        "    y3[j]=weighted_choice([(x[0],P3[0]), (x[1],P3[1]), (x[2],P3[2]), (x[3],P3[3]), (x[4],P3[4]), (x[5],P3[5]), (x[6],P3[6]), (x[7],P3[7]), (x[8],P3[8]), (x[9],P3[9]), (x[10],P3[10])])\n",
        "\n",
        "\n",
        "Psum=sum(rangemin,rangemax)\n",
        "print(P)\n",
        "print(\"The sum of the probability function between \" + str(rangemin) + \" and \" + str(rangemax) + \" is: \" + str(Psum))\n",
        "\n",
        "fig = plt.figure()\n",
        "pl = fig.add_subplot(221)\n",
        "pl1 = fig.add_subplot(222)\n",
        "pl2 = fig.add_subplot(223)\n",
        "pl3 = fig.add_subplot(224)\n",
        "\n",
        "pl.hist(y,bins, range=[0, 11])\n",
        "pl1.hist(y1,bins, range=[0, 11])\n",
        "pl2.hist(y2,bins, range=[0, 11])\n",
        "pl3.hist(y3,bins, range=[0, 11])\n",
        "\n",
        "\n",
        "\n",
        "\n"
      ],
      "execution_count": 8,
      "outputs": [
        {
          "output_type": "stream",
          "text": [
            "[0.02159638660527522, 0.044368333871782226, 0.07767442199328518, 0.1158766211045931, 0.14730805612132933, 0.15957691216057307, 0.14730805612132933, 0.1158766211045931, 0.07767442199328518, 0.044368333871782226, 0.02159638660527522]\n",
            "The sum of the probability function between 2 and 5 is: 0.5004360113797808\n"
          ],
          "name": "stdout"
        },
        {
          "output_type": "execute_result",
          "data": {
            "text/plain": [
              "(array([6.3071e+04, 2.3405e+04, 8.5540e+03, 3.1350e+03, 1.1750e+03,\n",
              "        4.0600e+02, 1.5600e+02, 6.4000e+01, 2.4000e+01, 8.0000e+00,\n",
              "        3.0000e+00]),\n",
              " array([ 0.,  1.,  2.,  3.,  4.,  5.,  6.,  7.,  8.,  9., 10., 11.]),\n",
              " <a list of 11 Patch objects>)"
            ]
          },
          "metadata": {
            "tags": []
          },
          "execution_count": 8
        },
        {
          "output_type": "display_data",
          "data": {
            "image/png": "[encoded data removed]",
            "text/plain": [
              "<Figure size 432x288 with 4 Axes>"
            ]
          },
          "metadata": {
            "tags": [],
            "needs_background": "light"
          }
        }
      ]
    },
    {
      "cell_type": "code",
      "metadata": {
        "id": "mP7iuhDcI7Iu",
        "colab_type": "code",
        "colab": {
          "base_uri": "https://localhost:8080/",
          "height": 336
        },
        "outputId": "97d224af-5f46-4ef1-a029-afbe5b65aa2c"
      },
      "source": [
        "stdv=2.5\n",
        "mean=5\n",
        "n=1000\n",
        "xmin=-15\n",
        "xmax=25\n",
        "x=np.linspace(xmin,xmax,n+1)\n",
        "P=[0]*(n+1)\n",
        "print(x,P)\n",
        "i=0\n",
        "for i in range(n+1):\n",
        "  P[i]=gaussian(stdev,mean,x[i])\n",
        "  i=i+1\n",
        "print(P)\n",
        "plt.plot(x,P)\n",
        "plt.xlim(xmin,xmax)\n"
      ],
      "execution_count": 31,
      "outputs": [
        {
          "output_type": "stream",
          "text": [
            "[-15.   -14.96 -14.92 ...  24.92  24.96  25.  ] [0, 0, 0, 0, 0, 0, 0, 0, 0, 0, 0, 0, 0, 0, 0, 0, 0, 0, 0, 0, 0, 0, 0, 0, 0, 0, 0, 0, 0, 0, 0, 0, 0, 0, 0, 0, 0, 0, 0, 0, 0, 0, 0, 0, 0, 0, 0, 0, 0, 0, 0, 0, 0, 0, 0, 0, 0, 0, 0, 0, 0, 0, 0, 0, 0, 0, 0, 0, 0, 0, 0, 0, 0, 0, 0, 0, 0, 0, 0, 0, 0, 0, 0, 0, 0, 0, 0, 0, 0, 0, 0, 0, 0, 0, 0, 0, 0, 0, 0, 0, 0, 0, 0, 0, 0, 0, 0, 0, 0, 0, 0, 0, 0, 0, 0, 0, 0, 0, 0, 0, 0, 0, 0, 0, 0, 0, 0, 0, 0, 0, 0, 0, 0, 0, 0, 0, 0, 0, 0, 0, 0, 0, 0, 0, 0, 0, 0, 0, 0, 0, 0, 0, 0, 0, 0, 0, 0, 0, 0, 0, 0, 0, 0, 0, 0, 0, 0, 0, 0, 0, 0, 0, 0, 0, 0, 0, 0, 0, 0, 0, 0, 0, 0, 0, 0, 0, 0, 0, 0, 0, 0, 0, 0, 0, 0, 0, 0, 0, 0, 0, 0, 0, 0, 0, 0, 0, 0, 0, 0, 0, 0, 0, 0, 0, 0, 0, 0, 0, 0, 0, 0, 0, 0, 0, 0, 0, 0, 0, 0, 0, 0, 0, 0, 0, 0, 0, 0, 0, 0, 0, 0, 0, 0, 0, 0, 0, 0, 0, 0, 0, 0, 0, 0, 0, 0, 0, 0, 0, 0, 0, 0, 0, 0, 0, 0, 0, 0, 0, 0, 0, 0, 0, 0, 0, 0, 0, 0, 0, 0, 0, 0, 0, 0, 0, 0, 0, 0, 0, 0, 0, 0, 0, 0, 0, 0, 0, 0, 0, 0, 0, 0, 0, 0, 0, 0, 0, 0, 0, 0, 0, 0, 0, 0, 0, 0, 0, 0, 0, 0, 0, 0, 0, 0, 0, 0, 0, 0, 0, 0, 0, 0, 0, 0, 0, 0, 0, 0, 0, 0, 0, 0, 0, 0, 0, 0, 0, 0, 0, 0, 0, 0, 0, 0, 0, 0, 0, 0, 0, 0, 0, 0, 0, 0, 0, 0, 0, 0, 0, 0, 0, 0, 0, 0, 0, 0, 0, 0, 0, 0, 0, 0, 0, 0, 0, 0, 0, 0, 0, 0, 0, 0, 0, 0, 0, 0, 0, 0, 0, 0, 0, 0, 0, 0, 0, 0, 0, 0, 0, 0, 0, 0, 0, 0, 0, 0, 0, 0, 0, 0, 0, 0, 0, 0, 0, 0, 0, 0, 0, 0, 0, 0, 0, 0, 0, 0, 0, 0, 0, 0, 0, 0, 0, 0, 0, 0, 0, 0, 0, 0, 0, 0, 0, 0, 0, 0, 0, 0, 0, 0, 0, 0, 0, 0, 0, 0, 0, 0, 0, 0, 0, 0, 0, 0, 0, 0, 0, 0, 0, 0, 0, 0, 0, 0, 0, 0, 0, 0, 0, 0, 0, 0, 0, 0, 0, 0, 0, 0, 0, 0, 0, 0, 0, 0, 0, 0, 0, 0, 0, 0, 0, 0, 0, 0, 0, 0, 0, 0, 0, 0, 0, 0, 0, 0, 0, 0, 0, 0, 0, 0, 0, 0, 0, 0, 0, 0, 0, 0, 0, 0, 0, 0, 0, 0, 0, 0, 0, 0, 0, 0, 0, 0, 0, 0, 0, 0, 0, 0, 0, 0, 0, 0, 0, 0, 0, 0, 0, 0, 0, 0, 0, 0, 0, 0, 0, 0, 0, 0, 0, 0, 0, 0, 0, 0, 0, 0, 0, 0, 0, 0, 0, 0, 0, 0, 0, 0, 0, 0, 0, 0, 0, 0, 0, 0, 0, 0, 0, 0, 0, 0, 0, 0, 0, 0, 0, 0, 0, 0, 0, 0, 0, 0, 0, 0, 0, 0, 0, 0, 0, 0, 0, 0, 0, 0, 0, 0, 0, 0, 0, 0, 0, 0, 0, 0, 0, 0, 0, 0, 0, 0, 0, 0, 0, 0, 0, 0, 0, 0, 0, 0, 0, 0, 0, 0, 0, 0, 0, 0, 0, 0, 0, 0, 0, 0, 0, 0, 0, 0, 0, 0, 0, 0, 0, 0, 0, 0, 0, 0, 0, 0, 0, 0, 0, 0, 0, 0, 0, 0, 0, 0, 0, 0, 0, 0, 0, 0, 0, 0, 0, 0, 0, 0, 0, 0, 0, 0, 0, 0, 0, 0, 0, 0, 0, 0, 0, 0, 0, 0, 0, 0, 0, 0, 0, 0, 0, 0, 0, 0, 0, 0, 0, 0, 0, 0, 0, 0, 0, 0, 0, 0, 0, 0, 0, 0, 0, 0, 0, 0, 0, 0, 0, 0, 0, 0, 0, 0, 0, 0, 0, 0, 0, 0, 0, 0, 0, 0, 0, 0, 0, 0, 0, 0, 0, 0, 0, 0, 0, 0, 0, 0, 0, 0, 0, 0, 0, 0, 0, 0, 0, 0, 0, 0, 0, 0, 0, 0, 0, 0, 0, 0, 0, 0, 0, 0, 0, 0, 0, 0, 0, 0, 0, 0, 0, 0, 0, 0, 0, 0, 0, 0, 0, 0, 0, 0, 0, 0, 0, 0, 0, 0, 0, 0, 0, 0, 0, 0, 0, 0, 0, 0, 0, 0, 0, 0, 0, 0, 0, 0, 0, 0, 0, 0, 0, 0, 0, 0, 0, 0, 0, 0, 0, 0, 0, 0, 0, 0, 0, 0, 0, 0, 0, 0, 0, 0, 0, 0, 0, 0, 0, 0, 0, 0, 0, 0, 0, 0, 0, 0, 0, 0, 0, 0, 0, 0, 0, 0, 0, 0, 0, 0, 0, 0, 0, 0, 0, 0, 0, 0, 0, 0, 0, 0, 0, 0, 0, 0, 0, 0, 0, 0, 0, 0, 0, 0, 0, 0, 0, 0, 0, 0, 0, 0, 0, 0, 0, 0, 0, 0, 0, 0, 0, 0, 0, 0, 0, 0, 0, 0, 0, 0, 0, 0, 0, 0, 0, 0, 0, 0, 0, 0, 0, 0, 0, 0, 0, 0, 0, 0, 0, 0, 0, 0, 0, 0, 0, 0, 0, 0, 0, 0, 0, 0, 0, 0, 0, 0, 0, 0, 0, 0, 0, 0]\n",
            "[2.020908433414757e-15, 2.296575567686332e-15, 2.6091777407280842e-15, 2.9635715029639716e-15, 3.3652394845853963e-15, 3.8203694394185175e-15, 4.335943050025435e-15, 4.919835671436375e-15, 5.580928329400871e-15, 6.3292334433860125e-15, 7.176035916510625e-15, 8.134051426131581e-15, 9.217603962056029e-15, 1.0442824896736634e-14, 1.1827876135959381e-14, 1.3393200192384343e-14, 1.51618003510967e-14, 1.7159554459632316e-14, 1.9415566278733434e-14, 2.196255877872664e-14, 2.4837314264725033e-14, 2.808116676717275e-14, 3.1740552748457514e-14, 3.586762685788511e-14, 4.052095022343125e-14, 4.5766259607205476e-14, 5.167732668122158e-14, 5.833691771041194e-14, 6.583786507142127e-14, 7.42842633001826e-14, 8.379280376141416e-14, 9.449426358300502e-14, 1.0653516621332339e-13, 1.2007963285676027e-13, 1.3531144614097115e-13, 1.5243634968897074e-13, 1.7168460983289285e-13, 1.9331386853876092e-13, 2.176123197401122e-13, 2.4490224473276653e-13, 2.755439460959505e-13, 3.099401238125844e-13, 3.485407419028107e-13, 3.918484390031886e-13, 4.4042454196645153e-13, 4.948957477751216e-13, 5.559615459130319e-13, 6.244024608842521e-13, 7.010892028759796e-13, 7.869928237058945e-13, 8.831959852548556e-13, 9.909054586522554e-13, 1.1114659846497796e-12, 1.2463756389953159e-12, 1.3973028613176525e-12, 1.5661053221798067e-12, 1.7548508206911433e-12, 1.9658404245357827e-12, 2.201634085639436e-12, 2.4650789881357514e-12, 2.7593409110008946e-12, 3.087938915910185e-12, 3.454783701762839e-12, 3.864220001168625e-12, 4.3210734312655355e-12, 4.830702251831304e-12, 5.399054528089026e-12, 6.032731244228881e-12, 6.73905596685672e-12, 7.526151715743356e-12, 8.403025762827794e-12, 9.379663149908818e-12, 1.0467129791363668e-11, 1.1677686111120824e-11, 1.3024912253609638e-11, 1.452384600716715e-11, 1.6191134686123952e-11, 1.8045202335297698e-11, 2.010643374873229e-11, 2.2397376934141453e-11, 2.4942965806639303e-11, 2.7770765061014817e-11, 3.091123935219876e-11, 3.4398049109902154e-11, 3.826837552701989e-11, 4.2563277493734244e-11, 4.732808350187333e-11, 5.261282181865311e-11, 5.847269252726852e-11, 6.496858535584619e-11, 7.216764756809935e-11, 8.014390657094113e-11, 8.8978952308651e-11, 9.876268496266877e-11, 1.09594133963391e-10, 1.2158235484857816e-10, 1.3484741107530002e-10, 1.4952144851228066e-10, 1.6574987101070714e-10, 1.8369262617808055e-10, 2.0352561126580226e-10, 2.254422099313729e-10, 2.496549715554103e-10, 2.7639744578729804e-10, 3.0592618606679096e-10, 3.385229370284474e-10, 3.744970219475614e-10, 4.141879477374588e-10, 4.579682464656763e-10, 5.062465739287588e-10, 5.59471087520247e-10, 6.181331274531478e-10, 6.827712273660643e-10, 7.539754824613115e-10, 8.32392305604856e-10, 9.187296042728505e-10, 1.01376241387063e-09, 1.1183390257897924e-09, 1.2333876516215673e-09, 1.35992366822488e-09, 1.4990574918704152e-09, 1.6520031334650205e-09, 1.8200874909204192e-09, 2.0047604390863644e-09, 2.2076057823397567e-09, 2.4303531399293144e-09, 2.674890839542308e-09, 2.9432799003090307e-09, 3.2377691926165815e-09, 3.560811868693455e-09, 3.915083164976457e-09, 4.303499684812492e-09, 4.729240278109461e-09, 5.195768643166602e-09, 5.70685778511833e-09, 6.266616475253005e-09, 6.879517865959852e-09, 7.550430427249122e-09, 8.284651382729131e-09, 9.087942835649097e-09, 9.966570789180431e-09, 1.0927347279553831e-08, 1.1977675856053202e-08, 1.3125600658236347e-08, 1.4379859358171679e-08, 1.57499402539994e-08, 1.7246143820813334e-08, 1.8879649045778185e-08, 2.0662584896610518e-08, 2.2608107296136384e-08, 2.4730482000663384e-08, 2.7045173806446163e-08, 2.956894253666315e-08, 3.231994629114341e-08, 3.531785247266566e-08, 3.858395713709332e-08, 4.2141313249996226e-08, 4.601486846984288e-08, 5.0231613117427667e-08, 5.4820739033014444e-08, 5.9813810066864e-08, 6.524494499544628e-08, 7.115101370487343e-08, 7.757184753498923e-08, 8.455046473229654e-08, 9.213331201756874e-08, 1.0037052333474724e-07, 1.0931619691165307e-07, 1.1902869183032659e-07, 1.2957094537556348e-07, 1.41010812504562e-07, 1.5342142885872947e-07, 1.6688159882070997e-07, 1.8147621020576513e-07, 1.9729667726691693e-07, 2.1444141378790494e-07, 2.330163381371328e-07, 2.5313541225961346e-07, 2.749212166925434e-07, 2.985055638037776e-07, 3.2403015157125314e-07, 3.51647260345454e-07, 3.815204951665899e-07, 4.13825576343316e-07, 4.4875118114076485e-07, 4.864998395725281e-07, 5.272888874442181e-07, 5.713514799554593e-07, 6.189376693326951e-07, 6.703155501373813e-07, 7.257724760728147e-07, 7.856163522985332e-07, 8.50177007453555e-07, 9.198076497892759e-07, 9.948864120194718e-07, 1.0758179897086111e-06, 1.1630353782408817e-06, 1.257001713640777e-06, 1.3582122227519915e-06, 1.4671962885247865e-06, 1.58451963641283e-06, 1.7107866481388745e-06, 1.8466428093543685e-06, 1.9927772979915206e-06, 2.1499257203867913e-06, 2.318873002542911e-06, 2.5004564441914176e-06, 2.6955689436201083e-06, 2.905162401538759e-06, 3.130251312572084e-06, 3.3719165532915027e-06, 3.6313093760250442e-06, 3.909655618019753e-06, 4.208260135870144e-06, 4.528511475471653e-06, 4.8718867881074705e-06, 5.239957003631475e-06, 5.63439227206725e-06, 6.0569676853045695e-06, 6.509569290937673e-06, 6.994200410655679e-06, 7.51298827596079e-06, 8.068190994358488e-06, 8.662204859528122e-06, 9.297572019349518e-06, 9.97698851602143e-06, 1.070331271286921e-05, 1.1479574122791066e-05, 1.2308982653643683e-05, 1.3194938286207756e-05, 1.4141041200709288e-05, 1.5151102368194722e-05, 1.6229154623373126e-05, 1.7379464235835772e-05, 1.8606542996851358e-05, 1.9915160839204868e-05, 2.1310359007797585e-05, 2.27974637989612e-05, 2.4382100886646125e-05, 2.6070210253834623e-05, 2.7868061747685732e-05, 2.9782271277058126e-05, 3.1819817671152454e-05, 3.3988060218093635e-05, 3.6294756902299106e-05, 3.8748083359487704e-05, 4.135665256813075e-05, 4.412953529607088e-05, 4.7076281320898097e-05, 5.020694144249811e-05, 5.353209030595414e-05, 5.706285005270666e-05, 6.081091481752706e-05, 6.478857608847101e-05, 6.900874894650521e-05, 7.34849992009829e-05, 7.823157143653582e-05, 8.326341798629161e-05, 8.859622884557249e-05, 9.424646253941484e-05, 0.00010023137795634429, 0.00010656906715984828, 0.00011327848918792228, 0.00012037950484988788, 0.00012789291252843354, 0.00013584048499346165, 0.00014424500723288322, 0.0001531303153039266, 0.0001625213362068904, 0.00017244412878147057, 0.00018292592562394304, 0.0001939951760214681, 0.00020568158989769743, 0.00021801618276162248, 0.00023103132164928775, 0.00024476077204550875, 0.0002592397457701793, 0.0002745049498110209, 0.00029059463608184093, 0.000307548652082369, 0.0003254084924327236, 0.0003442173512523028, 0.0003640201753496354, 0.0003848637181862257, 0.0004067965945739054, 0.0004298693360614942, 0.00045413444696276446, 0.0004796464609738041, 0.0005064619983237983, 0.0005346398233991514, 0.0005642409027765534, 0.0005953284635963048, 0.0006279680522026876, 0.0006622275929736824, 0.0006981774472576201, 0.0007358904723297117, 0.0007754420802765265, 0.0008169102967116776, 0.0008603758192210022, 0.0009059220754305931, 0.000953635280585937, 0.0010036044945254598, 0.0010559216779265817, 0.0011106817476974062, 0.0011679826313819564, 0.0012279253204418982, 0.0012906139222725052, 0.0013561557108057321, 0.0014246611755481338, 0.0014962440688965995, 0.0015710214515699116, 0.0016491137359894807, 0.0017306447274379666, 0.0018157416628199296, 0.0019045352468444032, 0.0019971596854449483, 0.0020937527162489104, 0.00219445563590352, 0.002299413324063221, 0.002408774263838818, 0.002522690558506373, 0.0026413179442705127, 0.0027648157988746256, 0.002893347145847872, 0.0030270786541773714, 0.0031661806331919856, 0.0033108270224434006, 0.0034611953763689757, 0.0036174668435209065, 0.0037798261401458906, 0.003948461517900459, 0.004123564725487717, 0.004305330964003103, 0.004493958835778461, 0.004689650286516593, 0.004892610540511193, 0.005103048028751003, 0.005321174309711207, 0.005547203982639668, 0.005781354593151493, 0.006023846530950977, 0.0062749029195072505, 0.00653474949751656, 0.0068036144919930664, 0.00708172848283768, 0.007369324258744825, 0.007666636664316101, 0.007973902438261462, 0.008291360042578992, 0.008619249482617383, 0.008957812117937159, 0.009307290463900924, 0.00966792798393634, 0.010039968872431113, 0.01042365782823398, 0.010819239818752723, 0.011226959834656039, 0.011647062635204639, 0.012079792484253832, 0.012525392876989705, 0.012984106257478988, 0.013456173727133536, 0.013941834744210178, 0.014441326814487017, 0.01495488517327984, 0.015482742458982242, 0.016025128378336854, 0.01658226936366611, 0.01715438822231494, 0.01774170377857967, 0.01834443050842197, 0.018962778167288676, 0.019596951411383713, 0.020247149412759954, 0.02091356546862486, 0.02159638660527522, 0.022295793177102067, 0.023011958461128353, 0.023745048247567343, 0.02449522042691062, 0.025262624574079483, 0.02604740153019388, 0.02684968298253704, 0.027669591043313, 0.028507237827817784, 0.029362725032662768, 0.03023614351470967, 0.031127572871395556, 0.03203708102314247, 0.032964723798565805, 0.03391054452320889, 0.034874573612548636, 0.03585682817002894, 0.03685731159089301, 0.037876013172595424, 0.038912907732587015, 0.03996795523427202, 0.04104110042194702, 0.042132272465534214, 0.043241384615929114, 0.044368333871782226, 0.04551300065853868, 0.04667524852055671, 0.0478549238271247, 0.04905185549319399, 0.05026585471563522, 0.051496714725822554, 0.05274421055933716, 0.05400809884357373, 0.05528811760401582, 0.05658398608993547, 0.05789540462025208, 0.059222054450268055, 0.06056359765997847, 0.06191967706462625, 0.06328991614815327, 0.06467391902016781, 0.06607127039702375, 0.06748153560757177, 0.0689042606241151, 0.07033897211906497, 0.07178517754775791, 0.07324236525785592, 0.07471000462571464, 0.07618754622006138, 0.07767442199328518, 0.07917004550059283, 0.08067381214724434, 0.0821850994640308, 0.0837032674111131, 0.08522765871028712, 0.08675759920569429, 0.0882923982529428, 0.08983134913655598, 0.09137372951560639, 0.09291880189734655, 0.09446581413858873, 0.09601399997453582, 0.09756257957470585, 0.09911076012554267, 0.10065773643924689, 0.10220269158830754, 0.10374479756516171, 0.10528321596635078, 0.10681709870049315, 0.10834558871933524, 0.10986782077109476, 0.11138292217525271, 0.11289001361790506, 0.11438820996673138, 0.1158766211045931, 0.11735435278072186, 0.11882050747841812, 0.12027418529813172, 0.12171448485475855, 0.12314050418794113, 0.12455134168412867, 0.12594609700911075, 0.12732387204970969, 0.12868377186327926, 0.13002490563363292, 0.13134638763199508, 0.13264733818154675, 0.13392688462411229, 0.13518416228751878, 0.13641831545214106, 0.13762849831513294, 0.13881387595083688, 0.13997362526585344, 0.14110693594725177, 0.14221301140239884, 0.14329106968888947, 0.14434034443306126, 0.14536008573559092, 0.14634956106267666, 0.14730805612132933, 0.1482348757173094, 0.1491293445942711, 0.14999080825269695, 0.15081863374723523, 0.15161221046108064, 0.15237095085607405, 0.15309429119723142, 0.15378169225045343, 0.15443263995220544, 0.15504664605000568, 0.1556232487126039, 0.15616201310878405, 0.1566625319537748, 0.15712442602230742, 0.15754734462741635, 0.1579309660641359, 0.15827499801730793, 0.15857917793277593, 0.15884327335130657, 0.15906708220464355, 0.15925043307316641, 0.1593931854046942, 0.15949522969404267, 0.1595564876230148, 0.15957691216057307, 0.1595564876230148, 0.15949522969404267, 0.1593931854046942, 0.15925043307316641, 0.15906708220464355, 0.15884327335130655, 0.15857917793277593, 0.15827499801730793, 0.1579309660641359, 0.1575473446274163, 0.15712442602230742, 0.1566625319537748, 0.15616201310878405, 0.1556232487126039, 0.15504664605000562, 0.15443263995220544, 0.15378169225045343, 0.15309429119723142, 0.15237095085607397, 0.15161221046108064, 0.15081863374723523, 0.14999080825269695, 0.14912934459427102, 0.1482348757173094, 0.14730805612132933, 0.14634956106267666, 0.14536008573559084, 0.14434034443306126, 0.14329106968888947, 0.14221301140239884, 0.14110693594725165, 0.13997362526585344, 0.13881387595083688, 0.13762849831513294, 0.13641831545214095, 0.13518416228751878, 0.13392688462411229, 0.13264733818154675, 0.13134638763199508, 0.1300249056336328, 0.12868377186327926, 0.12732387204970969, 0.12594609700911075, 0.12455134168412854, 0.12314050418794113, 0.12171448485475855, 0.12027418529813172, 0.11882050747841798, 0.11735435278072186, 0.1158766211045931, 0.11438820996673138, 0.11289001361790493, 0.11138292217525271, 0.10986782077109476, 0.10834558871933524, 0.106817098700493, 0.10528321596635078, 0.10374479756516171, 0.10220269158830754, 0.10065773643924676, 0.09911076012554267, 0.09756257957470585, 0.09601399997453582, 0.09446581413858873, 0.09291880189734641, 0.09137372951560639, 0.08983134913655598, 0.0882923982529428, 0.08675759920569415, 0.08522765871028712, 0.0837032674111131, 0.0821850994640308, 0.08067381214724421, 0.07917004550059283, 0.07767442199328518, 0.07618754622006138, 0.0747100046257145, 0.07324236525785592, 0.07178517754775791, 0.07033897211906497, 0.06890426062411498, 0.06748153560757177, 0.06607127039702375, 0.06467391902016781, 0.06328991614815313, 0.06191967706462625, 0.06056359765997847, 0.059222054450268055, 0.05789540462025208, 0.05658398608993547, 0.05528811760401582, 0.05400809884357373, 0.05274421055933716, 0.05149671472582244, 0.05026585471563522, 0.04905185549319399, 0.0478549238271247, 0.04667524852055661, 0.04551300065853868, 0.044368333871782226, 0.043241384615929114, 0.042132272465534165, 0.04104110042194697, 0.03996795523427202, 0.038912907732587015, 0.037876013172595376, 0.036857311590892956, 0.03585682817002894, 0.034874573612548636, 0.033910544523208845, 0.03296472379856577, 0.03203708102314247, 0.031127572871395556, 0.030236143514709633, 0.02936272503266272, 0.028507237827817784, 0.027669591043313, 0.02684968298253704, 0.026047401530193845, 0.025262624574079445, 0.02449522042691062, 0.023745048247567343, 0.023011958461128315, 0.02229579317710203, 0.02159638660527522, 0.02091356546862486, 0.02024714941275993, 0.019596951411383685, 0.018962778167288676, 0.01834443050842197, 0.01774170377857965, 0.017154388222314913, 0.01658226936366611, 0.016025128378336854, 0.015482742458982223, 0.014954885173279819, 0.014441326814487017, 0.013941834744210178, 0.013456173727133518, 0.012984106257478966, 0.012525392876989705, 0.012079792484253832, 0.011647062635204639, 0.01122695983465602, 0.010819239818752704, 0.01042365782823398, 0.010039968872431113, 0.009667927983936323, 0.009307290463900907, 0.008957812117937159, 0.008619249482617383, 0.008291360042578978, 0.007973902438261448, 0.007666636664316101, 0.007369324258744825, 0.0070817284828376716, 0.006803614491993054, 0.00653474949751656, 0.0062749029195072505, 0.006023846530950966, 0.005781354593151477, 0.005547203982639668, 0.005321174309711207, 0.005103048028750994, 0.004892610540511184, 0.004689650286516593, 0.004493958835778461, 0.004305330964003103, 0.004123564725487709, 0.003948461517900452, 0.0037798261401458906, 0.0036174668435209065, 0.0034611953763689697, 0.003310827022443392, 0.0031661806331919856, 0.0030270786541773714, 0.002893347145847867, 0.002764815798874618, 0.0026413179442705127, 0.002522690558506373, 0.0024087742638388113, 0.0022994133240632148, 0.00219445563590352, 0.0020937527162489104, 0.001997159685444945, 0.0019045352468443982, 0.0018157416628199296, 0.0017306447274379666, 0.0016491137359894764, 0.0015710214515699088, 0.0014962440688965995, 0.0014246611755481338, 0.0013561557108057321, 0.0012906139222725018, 0.001227925320441896, 0.0011679826313819564, 0.0011106817476974062, 0.0010559216779265788, 0.0010036044945254572, 0.000953635280585937, 0.0009059220754305931, 0.0008603758192209998, 0.0008169102967116755, 0.0007754420802765265, 0.0007358904723297117, 0.0006981774472576181, 0.0006622275929736813, 0.0006279680522026876, 0.0005953284635963048, 0.0005642409027765519, 0.0005346398233991505, 0.0005064619983237983, 0.0004796464609738041, 0.0004541344469627628, 0.00042986933606149313, 0.0004067965945739054, 0.0003848637181862257, 0.000364020175349636, 0.00034421735125230227, 0.0003254084924327231, 0.000307548652082369, 0.00029059463608184093, 0.00027450494981102043, 0.0002592397457701789, 0.00024476077204550875, 0.00023103132164928775, 0.00021801618276162172, 0.00020568158989769705, 0.0001939951760214681, 0.00018292592562394304, 0.00017244412878146995, 0.00016252133620689013, 0.0001531303153039266, 0.00014424500723288322, 0.0001358404849934614, 0.0001278929125284333, 0.00012037950484988788, 0.00011327848918792228, 0.0001065690671598479, 0.00010023137795634413, 9.424646253941484e-05, 8.859622884557249e-05, 8.326341798629174e-05, 7.823157143653568e-05, 7.348499920098265e-05, 6.900874894650521e-05, 6.478857608847101e-05, 6.0810914817526896e-05, 5.706285005270655e-05, 5.353209030595414e-05, 5.020694144249811e-05, 4.707628132089801e-05, 4.4129535296070806e-05, 4.135665256813075e-05, 3.8748083359487704e-05, 3.629475690229897e-05, 3.398806021809352e-05, 3.1819817671152454e-05, 2.9782271277058126e-05, 2.7868061747685678e-05, 2.6070210253834528e-05, 2.4382100886646125e-05, 2.27974637989612e-05, 2.1310359007797514e-05, 1.9915160839204793e-05, 1.8606542996851358e-05, 1.7379464235835772e-05, 1.6229154623373184e-05, 1.515110236819467e-05, 1.4141041200709237e-05, 1.3194938286207756e-05, 1.2308982653643683e-05, 1.1479574122791027e-05, 1.0703312712869194e-05, 9.97698851602143e-06, 9.297572019349518e-06, 8.662204859528092e-06, 8.06819099435846e-06, 7.51298827596079e-06, 6.994200410655679e-06, 6.509569290937649e-06, 6.0569676853045475e-06, 5.63439227206725e-06, 5.239957003631475e-06, 4.871886788107462e-06, 4.5285114754716366e-06, 4.208260135870144e-06, 3.909655618019753e-06, 3.631309376025025e-06, 3.3719165532914967e-06, 3.130251312572084e-06, 2.905162401538759e-06, 2.6955689436201037e-06, 2.5004564441914083e-06, 2.318873002542911e-06, 2.1499257203867913e-06, 1.9927772979915206e-06, 1.8466428093543588e-06, 1.710786648138871e-06, 1.58451963641283e-06, 1.4671962885247865e-06, 1.3582122227519963e-06, 1.2570017136407859e-06, 1.1630353782408734e-06, 1.0758179897086035e-06, 9.948864120194663e-07, 9.198076497892759e-07, 8.50177007453555e-07, 7.856163522985332e-07, 7.257724760728147e-07, 6.703155501373823e-07, 6.18937669332692e-07, 5.713514799554553e-07, 5.272888874442143e-07, 4.864998395725255e-07, 4.4875118114076485e-07, 4.13825576343316e-07, 3.815204951665899e-07, 3.516472603454559e-07, 3.2403015157125606e-07, 2.985055638037755e-07, 2.749212166925405e-07, 2.5313541225961256e-07, 2.330163381371328e-07, 2.1444141378790494e-07, 1.9729667726691693e-07, 1.8147621020576548e-07, 1.6688159882071113e-07, 1.5342142885872785e-07, 1.41010812504561e-07, 1.2957094537556303e-07, 1.1902869183032659e-07, 1.0931619691165307e-07, 1.0037052333474724e-07, 9.213331201756874e-08, 8.455046473229668e-08, 7.757184753498867e-08, 7.115101370487281e-08, 6.52449449954457e-08, 5.981381006686366e-08, 5.4820739033014444e-08, 5.0231613117427667e-08, 4.601486846984288e-08, 4.2141313249996306e-08, 3.8583957137093665e-08, 3.5317852472665406e-08, 3.231994629114318e-08, 2.9568942536662992e-08, 2.7045173806446163e-08, 2.4730482000663384e-08, 2.2608107296136384e-08, 2.0662584896610587e-08, 1.887964904577835e-08, 1.724614382081321e-08, 1.5749940253999286e-08, 1.4379859358171627e-08, 1.3125600658236347e-08, 1.1977675856053202e-08, 1.0927347279553831e-08, 9.966570789180431e-09, 9.08794283564913e-09, 8.284651382729042e-09, 7.55043042724907e-09, 6.879517865959779e-09, 6.266616475252984e-09, 5.70685778511833e-09, 5.195768643166602e-09, 4.729240278109461e-09, 4.3034996848125224e-09, 3.915083164976429e-09, 3.560811868693417e-09, 3.2377691926165472e-09, 2.94327990030902e-09, 2.674890839542308e-09, 2.4303531399293144e-09, 2.2076057823397567e-09, 2.0047604390863715e-09, 1.8200874909204323e-09, 1.6520031334650087e-09, 1.4990574918704046e-09, 1.3599236682248704e-09, 1.2333876516215673e-09, 1.1183390257897924e-09, 1.01376241387063e-09, 9.187296042728505e-10, 8.323923056048591e-10, 7.539754824613061e-10, 6.82771227366057e-10, 6.181331274531435e-10, 5.59471087520245e-10, 5.062465739287588e-10, 4.579682464656763e-10, 4.141879477374588e-10, 3.7449702194756404e-10, 3.385229370284438e-10, 3.059261860667877e-10, 2.763974457872951e-10, 2.496549715554094e-10, 2.254422099313729e-10, 2.0352561126580226e-10, 1.8369262617808055e-10, 1.6574987101070714e-10, 1.4952144851228172e-10, 1.3484741107529858e-10, 1.215823548485773e-10, 1.09594133963391e-10, 9.876268496266877e-11, 8.8978952308651e-11, 8.014390657094113e-11, 7.216764756809935e-11, 6.496858535584619e-11, 5.84726925272679e-11, 5.261282181865274e-11, 4.732808350187333e-11, 4.2563277493734244e-11, 3.826837552701989e-11, 3.4398049109902154e-11, 3.091123935219876e-11, 2.7770765061014817e-11, 2.4942965806639035e-11, 2.239737693414129e-11, 2.0106433748732152e-11, 1.8045202335297698e-11, 1.6191134686123952e-11, 1.452384600716715e-11, 1.3024912253609638e-11, 1.1677686111120824e-11, 1.0467129791363778e-11, 9.379663149908753e-12, 8.403025762827704e-12, 7.526151715743356e-12, 6.73905596685672e-12, 6.032731244228881e-12, 5.399054528089026e-12, 4.830702251831304e-12, 4.3210734312655355e-12, 3.864220001168598e-12, 3.454783701762815e-12, 3.087938915910185e-12, 2.7593409110008946e-12, 2.4650789881357514e-12, 2.201634085639436e-12, 1.9658404245357827e-12, 1.7548508206911433e-12, 1.5661053221797903e-12, 1.3973028613176426e-12, 1.2463756389953072e-12, 1.1114659846497796e-12, 9.909054586522554e-13, 8.831959852548556e-13, 7.869928237058945e-13, 7.010892028759796e-13, 6.244024608842521e-13, 5.559615459130242e-13, 4.948957477751145e-13, 4.4042454196645153e-13, 3.918484390031886e-13, 3.485407419028107e-13, 3.099401238125844e-13, 2.755439460959505e-13, 2.4490224473276653e-13, 2.1761231974010909e-13, 1.933138685387582e-13, 1.7168460983289285e-13, 1.5243634968897074e-13, 1.3531144614097115e-13, 1.2007963285676027e-13, 1.0653516621332339e-13, 9.449426358300502e-14, 8.379280376141357e-14, 7.428426330018207e-14, 6.58378650714208e-14, 5.833691771041194e-14, 5.167732668122158e-14, 4.5766259607205476e-14, 4.052095022343125e-14, 3.586762685788511e-14, 3.1740552748457514e-14, 2.8081166767172352e-14, 2.4837314264724856e-14, 2.196255877872664e-14, 1.9415566278733434e-14, 1.7159554459632316e-14, 1.51618003510967e-14, 1.3393200192384343e-14, 1.1827876135959381e-14, 1.0442824896736524e-14, 9.21760396205596e-15, 8.134051426131581e-15, 7.176035916510625e-15, 6.3292334433860125e-15, 5.580928329400871e-15, 4.919835671436375e-15, 4.335943050025435e-15, 3.820369439418463e-15, 3.3652394845853604e-15, 2.9635715029639716e-15, 2.6091777407280842e-15, 2.296575567686332e-15, 2.020908433414757e-15]\n"
          ],
          "name": "stdout"
        },
        {
          "output_type": "execute_result",
          "data": {
            "text/plain": [
              "(-15.0, 25.0)"
            ]
          },
          "metadata": {
            "tags": []
          },
          "execution_count": 31
        },
        {
          "output_type": "display_data",
          "data": {
            "image/png": "[encoded data removed]",
            "text/plain": [
              "<Figure size 432x288 with 1 Axes>"
            ]
          },
          "metadata": {
            "tags": [],
            "needs_background": "light"
          }
        }
      ]
    }
  ]
}